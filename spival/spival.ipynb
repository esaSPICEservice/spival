{
 "cells": [
  {
   "cell_type": "code",
   "execution_count": null,
   "metadata": {
    "collapsed": true
   },
   "outputs": [],
   "source": [
    "\n",
    "    start_time = '2018-02-10T00:00:00'\n",
    "    finish_time = '2018-02-12T00:00:00'\n",
    "    \n",
    "    interval = spiops.TimeWindow(start_time, finish_time,\n",
    "                                 resolution=60)\n",
    "\n",
    "    mars = spiops.Target('MARS', time=interval, frame='IAU_MARS')\n",
    "    tgo = spiops.Observer('TGO', time=interval, target=mars)\n",
    "\n",
    "    tgo.plot('distance', notebook=False)"
   ]
  }
 ],
 "metadata": {
  "kernelspec": {
   "display_name": "Python 2",
   "language": "python",
   "name": "python2"
  },
  "language_info": {
   "codemirror_mode": {
    "name": "ipython",
    "version": 2
   },
   "file_extension": ".py",
   "mimetype": "text/x-python",
   "name": "python",
   "nbconvert_exporter": "python",
   "pygments_lexer": "ipython2",
   "version": "2.7.6"
  }
 },
 "nbformat": 4,
 "nbformat_minor": 0
}
