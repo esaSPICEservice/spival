{
 "cells": [
  {
   "cell_type": "markdown",
   "metadata": {},
   "source": [
    "# BepiColombo SPICE Kernel Dataset Status\n",
    "Last updated on {current_time} by ESA SPICE Service (ESAC/ESA). SKD version: {skd_version}\n",
    "\n"
   ]
  },
  {
   "cell_type": "markdown",
   "metadata": {},
   "source": [
    "# Startup\n",
    "Prepare the testing environment at first stage, so if any validation step fails stopping the execution, the tests are already defined and in fail state."
   ]
  },
  {
   "cell_type": "code",
   "execution_count": 4,
   "metadata": {},
   "outputs": [],
   "source": [
    "from spival.classes.history import TestHistory\n",
    "\n",
    "test_history = TestHistory()\n",
    "test_history.add_test('XM-C1', 'Metakernel is valid', 'Consistency')\n",
    "test_history.add_test('XM-V5', 'OEM to SPK error', 'Validity/Error', threshold='~100m')\n",
    "test_history.add_test('XM-V4', 'Measured Quaternions to CK error', 'Validity/Warning', threshold='5 mdeg')\n",
    "test_history.add_test('XM-Q3', 'Attitude Error', 'Quality/Data')\n",
    "test_history.add_test('XM-Q4', 'MPO Orientation (quaternions w.r.. J2000)', 'Quality/Data')\n",
    "test_history.add_test('XM-Q5-MPO', 'MPO Solar Array (SA) Angles', 'Quality/Data')\n",
    "test_history.add_test('XM-Q5-MTM', 'MTM Solar Array (SA) Angles', 'Quality/Data')\n",
    "test_history.add_test('XM-Q1-MPO', 'MPO SA Solar Aspect Angle', 'Quality/Data')\n",
    "test_history.add_test('XM-Q1-MTM', 'MTM SA Solar Aspect Angle', 'Quality/Data')\n",
    "test_history.add_test('XM-Q6', 'MPO High Gain Antenna Angles', 'Quality/Data')\n",
    "test_history.add_test('XM-Q7', 'MPO High Gain Antenna - Earth Angle', 'Quality/Data')\n",
    "test_history.add_test('XM-V1', 'S/C Clock Drift', 'Validity/Error')"
   ]
  },
  {
   "cell_type": "markdown",
   "metadata": {},
   "source": [
    "# XM-C1 - Test Metakernel is valid \n",
    "The metakernel is loaded, the scenario covers a week with a finish time set by the end of coverage of the latest Measured Attitude Kernel."
   ]
  },
  {
   "cell_type": "code",
   "execution_count": null,
   "metadata": {},
   "outputs": [],
   "source": [
    "from spiops import spiops\n",
    "\n",
    "spiops.load('{metakernel}')               \n",
    "\n",
    "test_history.set_test_result('XM-C1', True)\n",
    "\n",
    "start_time = '{start_time_measured}'                                      # Start time\n",
    "finish_time ='{finish_time_measured}'  \n",
    "\n",
    "interval = spiops.TimeWindow(start_time, finish_time,resolution=60) # spiops object TimeWindow generated\n",
    "sun = spiops.Target('SUN', time=interval, frame='IAU_SUN')       # spiops object Target Sun generated\n",
    "mpo = spiops.Observer('MPO', time=interval, target=sun)            # spiops object Observer MPO generated\n",
    "mtm = spiops.Observer('MTM', time=interval, target=sun)            # spiops object Observer MTM generated"
   ]
  },
  {
   "cell_type": "markdown",
   "metadata": {},
   "source": [
    "\n",
    "<center><span style='color:Green'> Metakernel loaded successfully.  </span></center>\n",
    "## Coverage\n",
    "\n",
    "The coverage provided by the SPK and CK files is displayed for the Operational and the Planning meta-kernels. \n",
    "\n",
    "The Data type designation includes a reference to the originator of the data, the type of data and the reference period is provided. This is a three letter acronym. The first letter defines the file originator:\n",
    "*    s: Science Operation\n",
    "*    m: Mission Analysis\n",
    "*    f: Flight Dynamic\n",
    "\n",
    "the second letter defines the reference period of the data:\n",
    "*    c: Cruise phase reference\n",
    "*    l: Science phase Long term reference\n",
    "*    m: Science phase Medium term reference\n",
    "*    s: Science phase Short term reference\n",
    "*    o: Undefined reference\n",
    "\n",
    "the third letter indicates the type of data\n",
    "*    <span style='color:Orange'> p: Predicted data</span>\n",
    "*    <span style='color:Green'> r: Reconstructed data</span>\n",
    "*    <span style='color:Red'> t: Test data</span>\n",
    "*    <span style='color:Purple'> c: Commanded data (from Housekeeping Telemetry)</span>\n",
    "*    <span style='color:Blue'> m: Measured data (from Housekeeping Telemetry)</span>\n"
   ]
  },
  {
   "cell_type": "code",
   "execution_count": null,
   "metadata": {},
   "outputs": [],
   "source": [
    "spiops.ck_coverage_timeline('{metakernel}', ['MPO_SPACECRAFT', 'MMO_SPACECRAFT', 'MTM_SPACECRAFT'], plot_height=500)\n",
    "spiops.ck_coverage_timeline('{metakernel}'.replace('ops', 'plan'), ['MPO_SPACECRAFT', 'MMO_SPACECRAFT', 'MTM_SPACECRAFT'], plot_height=400)"
   ]
  },
  {
   "cell_type": "code",
   "execution_count": null,
   "metadata": {},
   "outputs": [],
   "source": [
    "spiops.spk_coverage_timeline('{metakernel}', ['MPO', 'MMO', 'MTM'], plot_height=200)\n",
    "spiops.spk_coverage_timeline('{metakernel}'.replace('ops', 'plan'), ['MPO', 'MMO', 'MTM'], plot_height=400)"
   ]
  },
  {
   "cell_type": "markdown",
   "metadata": {},
   "source": [
    "## XM-V5 - OEM to SPK error\n",
    "Comparison of spacecraft position and velocity between source OEM and generated SPK "
   ]
  },
  {
   "cell_type": "code",
   "execution_count": null,
   "metadata": {},
   "outputs": [],
   "source": [
    "target_spk = '{skd_path}/spk/{reconstructed_spk}'\n",
    "max_pos_err, max_vel_err = spiops.spkVsOem('MPO', target_spk, plot_style='line', notebook=True)\n",
    "test_history.set_test_result('XM-VS', (max_pos_err != None) and (max_pos_err < 0.1))"
   ]
  },
  {
   "cell_type": "markdown",
   "metadata": {},
   "source": [
    "## XM-V4 - Measured Quaternions to CK error\n",
    "Comparison of spacecraft orientation (quaternion) between source AOCS Measured Quaternions and generated CK "
   ]
  },
  {
   "cell_type": "code",
   "execution_count": null,
   "metadata": {},
   "outputs": [],
   "source": [
    "target_ck = '{skd_path}/ck/{measured_ck}'\n",
    "spiops.ckVsAocs('MPO', target_ck, plot_style='line', notebook=True)\n",
    "test_history.set_test_result('XM-V4', True)"
   ]
  },
  {
   "cell_type": "markdown",
   "metadata": {},
   "source": [
    "## XM-Q3 - Attitude Error\n",
    "Comparison of +Z axis orientation between predicted and measured attitude in arcseconds "
   ]
  },
  {
   "cell_type": "code",
   "execution_count": null,
   "metadata": {},
   "outputs": [],
   "source": [
    "measured_ck = '{skd_path}/ck/{measured_ck}'\n",
    "predicted_ck = '{skd_path}/ck/{predicted_ck}'\n",
    "resolution = 4\n",
    "\n",
    "spiops.ckdiff_error(measured_ck, predicted_ck, 'MPO_SPACECRAFT', 'J2000', resolution, 0.001, \n",
    "                    plot_style='circle', utc_start=start_time, utc_finish=finish_time, notebook=True)\n",
    "test_history.set_test_result('XM-Q3', True)"
   ]
  },
  {
   "cell_type": "markdown",
   "metadata": {},
   "source": [
    "## S/C Structures Orientation\n",
    "Quaternions, MTM and MPO Solar Array Orientation and Solar Aspect Angle, High Gain Antenna Orientation and HGA boresight-Earth Angle."
   ]
  },
  {
   "cell_type": "code",
   "execution_count": null,
   "metadata": {},
   "outputs": [],
   "source": [
    "# XM-Q4 - MPO Orientation (quaternions w.r.. J2000)\n",
    "mpo.Plot('quaternions', notebook=True)         \n",
    "test_history.set_test_result('XM-Q4', True)"
   ]
  },
  {
   "cell_type": "code",
   "execution_count": null,
   "metadata": {},
   "outputs": [],
   "source": [
    "# XM-Q5-MPO - MPO Solar Array (SA) Angles\n",
    "mpo.Plot('sa_ang', notebook=True)              \n",
    "test_history.set_test_result('XM-Q5-MPO', True)"
   ]
  },
  {
   "cell_type": "code",
   "execution_count": null,
   "metadata": {},
   "outputs": [],
   "source": [
    "# XM-Q5-MTM - MTM Solar Array (SA) Angles\n",
    "mtm.Plot('sa_ang', notebook=True)              \n",
    "test_history.set_test_result('XM-Q5-MTM', True)"
   ]
  },
  {
   "cell_type": "code",
   "execution_count": null,
   "metadata": {},
   "outputs": [],
   "source": [
    "# XM-Q1-MPO - MPO SA Solar Aspect Angle\n",
    "mpo.Plot('saa_sa', notebook=True)              \n",
    "test_history.set_test_result('XM-Q1-MPO', True)"
   ]
  },
  {
   "cell_type": "code",
   "execution_count": null,
   "metadata": {},
   "outputs": [],
   "source": [
    "# XM-Q1-MTM - MTM SA Solar Aspect Angle\n",
    "mtm.Plot('saa_sa', notebook=True)              \n",
    "test_history.set_test_result('XM-Q1-MTM', True)"
   ]
  },
  {
   "cell_type": "code",
   "execution_count": null,
   "metadata": {},
   "outputs": [],
   "source": [
    "# XM-Q6 - MPO High Gain Antenna Angles\n",
    "mpo.Plot('hga_angles', notebook=True)                 \n",
    "test_history.set_test_result('XM-Q6', True)       "
   ]
  },
  {
   "cell_type": "code",
   "execution_count": null,
   "metadata": {},
   "outputs": [],
   "source": [
    "# XM-Q7- MPO High Gain Antenna - Earth Angle\n",
    "mpo.Plot('hga_earth', notebook=True)\n",
    "test_history.set_test_result('XM-Q7', True)"
   ]
  },
  {
   "cell_type": "markdown",
   "metadata": {},
   "source": [
    "## XM-V1 - S/C Clock Drift \n",
    "\n",
    "The following plot shows the drift of the S/C Clock."
   ]
  },
  {
   "cell_type": "code",
   "execution_count": null,
   "metadata": {},
   "outputs": [],
   "source": [
    "mpo.Plot('clock_drift', notebook=True)\n",
    "test_history.set_test_result('XM-V1', True)"
   ]
  },
  {
   "cell_type": "code",
   "execution_count": null,
   "metadata": {},
   "outputs": [],
   "source": [
    "# Show validation results\n",
    "test_history.show_tests(move_to_top=True)"
   ]
  }
 ],
 "metadata": {
  "kernelspec": {
   "display_name": "Python 3",
   "language": "python",
   "name": "python3"
  },
  "language_info": {
   "codemirror_mode": {
    "name": "ipython",
    "version": 3
   },
   "file_extension": ".py",
   "mimetype": "text/x-python",
   "name": "python",
   "nbconvert_exporter": "python",
   "pygments_lexer": "ipython3",
   "version": "3.6.12"
  }
 },
 "nbformat": 4,
 "nbformat_minor": 4
}
