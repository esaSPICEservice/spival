{
 "cells": [
  {
   "cell_type": "markdown",
   "metadata": {},
   "source": [
    "# BepiColombo SPICE Kernel Dataset Status\n",
    "\n",
    "Last updated on {current_time} by Marc Costa Sitja (ESAC/ESA). SKD version: {skd_version}\n",
    "\n",
    "\n",
    "## Startup\n",
    "\n",
    "The metakernel is loaded, the scenario covers a week with a finish time set by the end of coverage of the latest Measured Attitude Kernel."
   ]
  },
  {
   "cell_type": "code",
   "execution_count": 2,
   "metadata": {},
   "outputs": [
    {
     "ename": "SpiceyError",
     "evalue": "\n================================================================================\n\nToolkit version: N0066\n\nSPICE(NOSUCHFILE) --\n\nThe attempt to load \"{metakernel}\" by the routine FURNSH failed. It could not be located.\n\nfurnsh_c --> FURNSH --> ZZLDKER\n\n================================================================================",
     "output_type": "error",
     "traceback": [
      "\u001b[0;31m---------------------------------------------------------------------------\u001b[0m",
      "\u001b[0;31mSpiceyError\u001b[0m                               Traceback (most recent call last)",
      "\u001b[0;32m<ipython-input-2-4f6c08ed6f64>\u001b[0m in \u001b[0;36m<module>\u001b[0;34m\u001b[0m\n\u001b[1;32m      1\u001b[0m \u001b[0;32mfrom\u001b[0m \u001b[0mspiops\u001b[0m \u001b[0;32mimport\u001b[0m \u001b[0mspiops\u001b[0m\u001b[0;34m\u001b[0m\u001b[0;34m\u001b[0m\u001b[0m\n\u001b[1;32m      2\u001b[0m \u001b[0;34m\u001b[0m\u001b[0m\n\u001b[0;32m----> 3\u001b[0;31m \u001b[0mspiops\u001b[0m\u001b[0;34m.\u001b[0m\u001b[0mload\u001b[0m\u001b[0;34m(\u001b[0m\u001b[0;34m'{metakernel}'\u001b[0m\u001b[0;34m)\u001b[0m\u001b[0;34m\u001b[0m\u001b[0;34m\u001b[0m\u001b[0m\n\u001b[0m\u001b[1;32m      4\u001b[0m \u001b[0;34m\u001b[0m\u001b[0m\n\u001b[1;32m      5\u001b[0m \u001b[0mstart_time\u001b[0m \u001b[0;34m=\u001b[0m \u001b[0;34m'{start_time_measured}'\u001b[0m                                      \u001b[0;31m# Start time\u001b[0m\u001b[0;34m\u001b[0m\u001b[0;34m\u001b[0m\u001b[0m\n",
      "\u001b[0;32m~/Dropbox/SPICE/SPICE_CROSS_MISSION/spiops/spiops/spiops.py\u001b[0m in \u001b[0;36mload\u001b[0;34m(mk)\u001b[0m\n\u001b[1;32m     55\u001b[0m \u001b[0;34m\u001b[0m\u001b[0m\n\u001b[1;32m     56\u001b[0m \u001b[0;32mdef\u001b[0m \u001b[0mload\u001b[0m\u001b[0;34m(\u001b[0m\u001b[0mmk\u001b[0m\u001b[0;34m)\u001b[0m\u001b[0;34m:\u001b[0m\u001b[0;34m\u001b[0m\u001b[0;34m\u001b[0m\u001b[0m\n\u001b[0;32m---> 57\u001b[0;31m     \u001b[0;32mreturn\u001b[0m \u001b[0mspiceypy\u001b[0m\u001b[0;34m.\u001b[0m\u001b[0mfurnsh\u001b[0m\u001b[0;34m(\u001b[0m\u001b[0mmk\u001b[0m\u001b[0;34m)\u001b[0m\u001b[0;34m\u001b[0m\u001b[0;34m\u001b[0m\u001b[0m\n\u001b[0m\u001b[1;32m     58\u001b[0m \u001b[0;34m\u001b[0m\u001b[0m\n\u001b[1;32m     59\u001b[0m \u001b[0;34m\u001b[0m\u001b[0m\n",
      "\u001b[0;32m/usr/local/lib/python3.7/site-packages/spiceypy/spiceypy.py\u001b[0m in \u001b[0;36mwith_errcheck\u001b[0;34m(*args, **kwargs)\u001b[0m\n\u001b[1;32m     76\u001b[0m         \u001b[0;32mtry\u001b[0m\u001b[0;34m:\u001b[0m\u001b[0;34m\u001b[0m\u001b[0;34m\u001b[0m\u001b[0m\n\u001b[1;32m     77\u001b[0m             \u001b[0mres\u001b[0m \u001b[0;34m=\u001b[0m \u001b[0mf\u001b[0m\u001b[0;34m(\u001b[0m\u001b[0;34m*\u001b[0m\u001b[0margs\u001b[0m\u001b[0;34m,\u001b[0m \u001b[0;34m**\u001b[0m\u001b[0mkwargs\u001b[0m\u001b[0;34m)\u001b[0m\u001b[0;34m\u001b[0m\u001b[0;34m\u001b[0m\u001b[0m\n\u001b[0;32m---> 78\u001b[0;31m             \u001b[0mcheckForSpiceError\u001b[0m\u001b[0;34m(\u001b[0m\u001b[0mf\u001b[0m\u001b[0;34m)\u001b[0m\u001b[0;34m\u001b[0m\u001b[0;34m\u001b[0m\u001b[0m\n\u001b[0m\u001b[1;32m     79\u001b[0m             \u001b[0;32mreturn\u001b[0m \u001b[0mres\u001b[0m\u001b[0;34m\u001b[0m\u001b[0;34m\u001b[0m\u001b[0m\n\u001b[1;32m     80\u001b[0m         \u001b[0;32mexcept\u001b[0m\u001b[0;34m:\u001b[0m\u001b[0;34m\u001b[0m\u001b[0;34m\u001b[0m\u001b[0m\n",
      "\u001b[0;32m/usr/local/lib/python3.7/site-packages/spiceypy/spiceypy.py\u001b[0m in \u001b[0;36mcheckForSpiceError\u001b[0;34m(f)\u001b[0m\n\u001b[1;32m     59\u001b[0m         \u001b[0mmsg\u001b[0m \u001b[0;34m=\u001b[0m \u001b[0mstypes\u001b[0m\u001b[0;34m.\u001b[0m\u001b[0merrorformat\u001b[0m\u001b[0;34m.\u001b[0m\u001b[0mformat\u001b[0m\u001b[0;34m(\u001b[0m\u001b[0;34m**\u001b[0m\u001b[0merrorparts\u001b[0m\u001b[0;34m)\u001b[0m\u001b[0;34m\u001b[0m\u001b[0;34m\u001b[0m\u001b[0m\n\u001b[1;32m     60\u001b[0m         \u001b[0mreset\u001b[0m\u001b[0;34m(\u001b[0m\u001b[0;34m)\u001b[0m\u001b[0;34m\u001b[0m\u001b[0;34m\u001b[0m\u001b[0m\n\u001b[0;32m---> 61\u001b[0;31m         \u001b[0;32mraise\u001b[0m \u001b[0mstypes\u001b[0m\u001b[0;34m.\u001b[0m\u001b[0mSpiceyError\u001b[0m\u001b[0;34m(\u001b[0m\u001b[0mmsg\u001b[0m\u001b[0;34m)\u001b[0m\u001b[0;34m\u001b[0m\u001b[0;34m\u001b[0m\u001b[0m\n\u001b[0m\u001b[1;32m     62\u001b[0m \u001b[0;34m\u001b[0m\u001b[0m\n\u001b[1;32m     63\u001b[0m \u001b[0;34m\u001b[0m\u001b[0m\n",
      "\u001b[0;31mSpiceyError\u001b[0m: \n================================================================================\n\nToolkit version: N0066\n\nSPICE(NOSUCHFILE) --\n\nThe attempt to load \"{metakernel}\" by the routine FURNSH failed. It could not be located.\n\nfurnsh_c --> FURNSH --> ZZLDKER\n\n================================================================================"
     ]
    }
   ],
   "source": [
    "from spiops import spiops\n",
    "\n",
    "spiops.load('{metakernel}')               \n",
    "\n",
    "start_time = '{start_time_measured}'                                      # Start time\n",
    "finish_time ='{finish_time_measured}'  \n",
    "\n",
    "interval = spiops.TimeWindow(start_time, finish_time,resolution=60) # spiops object TimeWindow generated\n",
    "sun = spiops.Target('SUN', time=interval, frame='IAU_SUN')       # spiops object Target Mars generated\n",
    "mpo = spiops.Observer('MPO', time=interval, target=sun)            # spiops object Observer TGO generated\n",
    "mtm = spiops.Observer('MTM', time=interval, target=sun)            # spiops object Observer TGO generated"
   ]
  },
  {
   "cell_type": "markdown",
   "metadata": {},
   "source": [
    "## Coverage\n",
    "\n",
    "The coverage provided by the SPK and CK files is displayed for the Operational and the Planning meta-kernels"
   ]
  },
  {
   "cell_type": "code",
   "execution_count": null,
   "metadata": {},
   "outputs": [],
   "source": [
    "spiops.ck_coverage_timeline('{metakernel}', 'mpo')"
   ]
  },
  {
   "cell_type": "code",
   "execution_count": null,
   "metadata": {},
   "outputs": [],
   "source": [
    "spiops.spk_coverage_timeline('{metakernel}', 'mpo')"
   ]
  },
  {
   "cell_type": "markdown",
   "metadata": {},
   "source": [
    "## Attitude Error\n",
    "Comparison of +Z axis orientation between predicted and measured attitude in milidegrees "
   ]
  },
  {
   "cell_type": "code",
   "execution_count": 14,
   "metadata": {},
   "outputs": [
    {
     "name": "stdout",
     "output_type": "stream",
     "text": [
      "WARNING: No Time Window could be determined\n"
     ]
    }
   ],
   "source": [
    "# 2020-04-09T3:00:00 UTC until 2020-04-09T09:00:00 UTC\n",
    "import spiceypy\n",
    "spiceypy.furnsh('/Users/mcosta/SPICE/BEPICOLOMBO/kernels/mk/bc_ops_local.tm') \n",
    "measured_ck = '/Users/mcosta/SPICE/BEPICOLOMBO/kernels/ck/bc_mpo_sc_scm_20200101_20200508_s20200109_v01.bc'\n",
    "predicted_ck = '/Users/mcosta/SPICE/BEPICOLOMBO/kernels/ck/ck/bc_mpo_sc_fsp_00080_20181020_20200701_f20181127_v01.bc'\n",
    "resolution = 4\n",
    "start_time = '2020-04-09T04:00:00'\n",
    "finish_time = '2020-04-09T08:00:00'\n",
    "\n",
    "spiops.ckdiff_error(measured_ck, predicted_ck, 'MPO_SPACECRAFT', 'J2000', resolution, 0.001, \n",
    "                    plot_style='circle', utc_start=start_time, utc_finish=finish_time, notebook=True)"
   ]
  },
  {
   "cell_type": "markdown",
   "metadata": {},
   "source": [
    "## S/C Structures Orientation\n",
    "Quaternions, MTM and MPO Solar Array Orientation and Solar Aspect Angle, High Gain Antenna Orientation and HGA boresight-Earth Angle."
   ]
  },
  {
   "cell_type": "code",
   "execution_count": null,
   "metadata": {},
   "outputs": [],
   "source": [
    "mpo.Plot('quaternions', notebook=True)         # MPO Orientation (quaternions w.r.. J2000)"
   ]
  },
  {
   "cell_type": "code",
   "execution_count": null,
   "metadata": {},
   "outputs": [],
   "source": [
    "mpo.Plot('sa_ang', notebook=True)              # MPO Solar Array (SA) Angles"
   ]
  },
  {
   "cell_type": "code",
   "execution_count": null,
   "metadata": {},
   "outputs": [],
   "source": [
    "mtm.Plot('sa_ang', notebook=True)              # MTM Solar Array (SA) Angles"
   ]
  },
  {
   "cell_type": "code",
   "execution_count": null,
   "metadata": {},
   "outputs": [],
   "source": [
    "mpo.Plot('saa_sa', notebook=True)              # MPO SA Solar Aspect Angle"
   ]
  },
  {
   "cell_type": "code",
   "execution_count": null,
   "metadata": {},
   "outputs": [],
   "source": [
    "mtm.Plot('saa_sa', notebook=True)              # MTM SA Solar Aspect Angle"
   ]
  },
  {
   "cell_type": "code",
   "execution_count": null,
   "metadata": {},
   "outputs": [],
   "source": [
    "mpo.Plot('hga_angles', notebook=True)          # MTM High Gain Antenna Angles"
   ]
  },
  {
   "cell_type": "code",
   "execution_count": null,
   "metadata": {},
   "outputs": [],
   "source": [
    "mpo.Plot('hga_earth', notebook=True)           # High Gain Antenna - Earth Angle"
   ]
  },
  {
   "cell_type": "markdown",
   "metadata": {},
   "source": [
    "## S/C Clock Drift \n",
    "\n",
    "The following plot shows the drift of the S/C Clock."
   ]
  },
  {
   "cell_type": "code",
   "execution_count": null,
   "metadata": {},
   "outputs": [],
   "source": [
    "mpo.Plot('clock_drift', notebook=True)   "
   ]
  }
 ],
 "metadata": {
  "kernelspec": {
   "display_name": "Python 3",
   "language": "python",
   "name": "python3"
  },
  "language_info": {
   "codemirror_mode": {
    "name": "ipython",
    "version": 3
   },
   "file_extension": ".py",
   "mimetype": "text/x-python",
   "name": "python",
   "nbconvert_exporter": "python",
   "pygments_lexer": "ipython3",
   "version": "3.7.4"
  }
 },
 "nbformat": 4,
 "nbformat_minor": 4
}
