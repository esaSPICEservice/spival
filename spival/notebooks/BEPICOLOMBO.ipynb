{
 "cells": [
  {
   "cell_type": "markdown",
   "metadata": {},
   "source": [
    "# BepiColombo SPICE Kernel Dataset Status\n",
    "SKD version: {skd_version} <br>\n",
    "Creation: {current_time} by ESA SPICE Service (ESAC/ESA). <br>\n",
    "Bepi Test specification: SPICE-CROSS-TN-190322 <br>\n"
   ]
  },
  {
   "cell_type": "markdown",
   "metadata": {},
   "source": [
    "## Startup\n",
    "Prepare the testing environment at first stage, so if any validation step fails stopping the execution, the tests are already defined and in fail state."
   ]
  },
  {
   "cell_type": "code",
   "execution_count": 1,
   "metadata": {},
   "outputs": [],
   "source": [
    "from spival.classes.history import TestHistory\n",
    "\n",
    "test_history = TestHistory()\n",
    "test_history.add_test('XM-C1', 'Metakernel is valid', 'Consistency')\n",
    "test_history.add_test('XM-C2', 'Frame chain', 'Consistency')\n",
    "test_history.add_test('XM-C3', 'Rotation matrices', 'Consistency')\n",
    "test_history.add_test('XM-C4', 'Fields of view', 'Consistency')\n",
    "test_history.add_test('XM-V1', 'Time deviation', 'Validity/Error', threshold='500ms')\n",
    "test_history.add_test('XM-V1-BIS', 'Time correlation', 'Validity/Error', threshold='500ms')\n",
    "test_history.add_test('XM-Q2', 'S/C Clock Drift', 'Quality/Evolution')\n",
    "test_history.add_test('XM-V3', 'Predicted Quaternions to CK error', 'Validity/Warning', threshold='5 mdeg')\n",
    "test_history.add_test('XM-V4', 'Measured Quaternions to CK error', 'Validity/Warning', threshold='5 mdeg')\n",
    "test_history.add_test('XM-V5', 'OEM to SPK error', 'Validity/Error', threshold='~100m')\n",
    "test_history.add_test('XM-V7-MPO', 'MPO Solar Array (SA) Angles', 'Validity/Error', threshold='100 mdeg')\n",
    "test_history.add_test('XM-V7-MTM', 'MTM Solar Array (SA) Angles', 'Validity/Error', threshold='100 mdeg')\n",
    "test_history.add_test('XM-Q3', 'Attitude Error', 'Quality/Data')\n",
    "test_history.add_test('XM-Q3-BIS', 'SCC vs FCP Attitude Error', 'Quality/Data')\n",
    "test_history.add_test('XM-Q4', 'MPO Orientation (quaternions w.r.. J2000)', 'Quality/Data')\n",
    "test_history.add_test('XM-Q5-MPO', 'MPO Solar Array (SA) Angles', 'Quality/Data')\n",
    "test_history.add_test('XM-Q5-MTM', 'MTM Solar Array (SA) Angles', 'Quality/Data')\n",
    "test_history.add_test('XM-Q1-MPO', 'MPO SA Solar Aspect Angle', 'Quality/Data')\n",
    "test_history.add_test('XM-Q1-MTM', 'MTM SA Solar Aspect Angle', 'Quality/Data')\n",
    "test_history.add_test('XM-Q6', 'MPO High Gain Antenna Angles', 'Quality/Data')\n",
    "test_history.add_test('XM-Q7', 'MPO High Gain Antenna - Earth Angle', 'Quality/Data')\n",
    "test_history.add_test('BC-Q2', 'MPO Medium Gain Antenna Angles', 'Quality/Data')\n",
    "test_history.add_test('BC-Q8', 'MPO Medium Gain Antenna - Earth Angle', 'Quality/Data')\n",
    "test_history.add_test('BC-V3-MERCURY_1', 'MERCURY Flyby #1 01-OCT-2021 — CA altitudes', 'Quality/Evolution')\n",
    "test_history.add_test('BC-V3-MERCURY_2', 'MERCURY Flyby #2 23-JUN-2022 — CA altitudes', 'Quality/Evolution')\n",
    "test_history.add_test('BC-V3-MERCURY_3', 'MERCURY Flyby #3 19-JUN-2023 — CA altitudes', 'Quality/Evolution')\n",
    "test_history.add_test('XM-V10', 'Diff of latest orbit w.r.t. previous orbit', 'Quality/Evolution')"
   ]
  },
  {
   "cell_type": "markdown",
   "metadata": {},
   "source": [
    "### XM-C1 - Test Metakernel is valid \n",
    "The metakernel is loaded, the scenario covers a week with a finish time set by the end of coverage of the latest Measured Attitude Kernel."
   ]
  },
  {
   "cell_type": "code",
   "execution_count": null,
   "metadata": {},
   "outputs": [],
   "source": [
    "from spiops import spiops\n",
    "import spiceypy\n",
    "\n",
    "spiops.load('{metakernel}')               \n",
    "\n",
    "test_history.set_test_result('XM-C1', True)\n",
    "\n",
    "start_time = '{start_time_measured}'                                # Start time\n",
    "finish_time ='{finish_time_measured}'                               # End time\n",
    "\n",
    "interval = spiops.TimeWindow(start_time, finish_time,resolution=60) # spiops object TimeWindow generated\n",
    "sun = spiops.Target('SUN', time=interval, frame='IAU_SUN')          # spiops object Target Sun generated\n",
    "mpo = spiops.Observer('MPO', time=interval, target=sun)             # spiops object Observer MPO generated\n",
    "mtm = spiops.Observer('MTM', time=interval, target=sun)             # spiops object Observer MTM generated\n",
    "spiceypy.kclear()  # Avoid any plan kernel in the kernel pool"
   ]
  },
  {
   "cell_type": "markdown",
   "metadata": {},
   "source": [
    "### <center><span style='color:Green'> Metakernel loaded successfully.  </span></center>"
   ]
  },
  {
   "cell_type": "markdown",
   "metadata": {},
   "source": [
    "### XM-C2 - Frame chain\n",
    "Ensure that frame changes operations can be performed at any time (incl. instrument frames), meaning all frames are connected."
   ]
  },
  {
   "cell_type": "code",
   "execution_count": null,
   "metadata": {},
   "outputs": [],
   "source": [
    "plan_mk = '{metakernel}'.replace('ops', 'plan')\n",
    "spiops.load(plan_mk)\n",
    "frm_start_time = '{start_time_measured}'                                # Start time\n",
    "frm_finish_time ='{finish_time_measured}'                               # End time\n",
    "num_samples = 100\n",
    "\n",
    "all_frames_ok = spiops.check_frame_chain(frm_start_time, frm_finish_time, num_samples)\n",
    "test_history.set_test_result('XM-C2', all_frames_ok)"
   ]
  },
  {
   "cell_type": "markdown",
   "metadata": {},
   "source": [
    "### XM-C3 - Rotation matrices\n",
    "Check that all TK frames defined with matrices are defined with proper rotation matrices."
   ]
  },
  {
   "cell_type": "code",
   "execution_count": null,
   "metadata": {},
   "outputs": [],
   "source": [
    "all_matrices_ok = spiops.check_rotation_matrices()\n",
    "test_history.set_test_result('XM-C3', all_matrices_ok)\n"
   ]
  },
  {
   "cell_type": "markdown",
   "metadata": {},
   "source": [
    "### XM-C4 - Fields of view\n",
    "Check that all instruments fields of view are defined properly."
   ]
  },
  {
   "cell_type": "code",
   "execution_count": null,
   "metadata": {},
   "outputs": [],
   "source": [
    "all_fovs_ok = spiops.check_fovs(max_angle_deg=89.0)\n",
    "test_history.set_test_result('XM-C4', all_fovs_ok)\n",
    "spiceypy.kclear()  # Avoid any plan kernel in the kernel pool"
   ]
  },
  {
   "cell_type": "markdown",
   "metadata": {},
   "source": [
    "### XM-V1 - Time deviation\n",
    "Downloads the time deviation files for a given time range and computes the time difference between the UTC timestamp of packet calculated with SPICE (1st column) and the UTC timestamp of packet calculated from SCOS2K header (3rd column)"
   ]
  },
  {
   "cell_type": "code",
   "execution_count": null,
   "metadata": {},
   "outputs": [],
   "source": [
    "spiops.load('{metakernel}')\n",
    "max_time_diff = spiops.time_deviation('MPO', start_time, finish_time, plot_style='line', notebook=True)\n",
    "test_history.set_test_result('XM-V1', (max_time_diff != None) and (max_time_diff < 500)) # 500 milliseconds\n",
    "spiceypy.kclear()  # Avoid any plan kernel in the kernel pool"
   ]
  },
  {
   "cell_type": "markdown",
   "metadata": {},
   "source": [
    "### XM-V1-BIS - Time correlation\n",
    "Downloads a telemetry file of a given CK and computes the time difference between the UTC time (1st column) and the clock string (2nd column) in milliseconds"
   ]
  },
  {
   "cell_type": "code",
   "execution_count": null,
   "metadata": {},
   "outputs": [],
   "source": [
    "spiops.load('{metakernel}')\n",
    "target_ck = '{skd_path}/ck/{measured_ck}'\n",
    "max_time_diff = spiops.time_correlation('MPO', target_ck, plot_style='line', notebook=True)\n",
    "test_history.set_test_result('XM-V1-BIS', (max_time_diff != None) and (max_time_diff < 500)) # 500 milliseconds\n",
    "spiceypy.kclear()  # Avoid any plan kernel in the kernel pool"
   ]
  },
  {
   "cell_type": "markdown",
   "metadata": {},
   "source": [
    "### XM-Q2 - S/C Clock Drift \n",
    "\n",
    "The following plot shows the drift of the S/C Clock."
   ]
  },
  {
   "cell_type": "code",
   "execution_count": null,
   "metadata": {},
   "outputs": [],
   "source": [
    "spiops.load('{metakernel}')\n",
    "mpo.Plot('clock_drift', notebook=True)\n",
    "test_history.set_test_result('XM-Q2', True)\n",
    "spiceypy.kclear()  # Avoid any plan kernel in the kernel pool"
   ]
  },
  {
   "cell_type": "markdown",
   "metadata": {},
   "source": [
    "## Coverage\n",
    "\n",
    "The coverage provided by the SPK and CK files is displayed for the Operational and the Planning meta-kernels. \n",
    "\n",
    "The Data type designation includes a reference to the originator of the data, the type of data and the reference period is provided. This is a three letter acronym. The first letter defines the file originator:\n",
    "*    s: Science Operation\n",
    "*    m: Mission Analysis\n",
    "*    f: Flight Dynamic\n",
    "\n",
    "the second letter defines the reference period of the data:\n",
    "*    c: Cruise phase reference\n",
    "*    l: Science phase Long term reference\n",
    "*    m: Science phase Medium term reference\n",
    "*    s: Science phase Short term reference\n",
    "*    o: Undefined reference\n",
    "\n",
    "the third letter indicates the type of data\n",
    "*    <span style='color:Orange'> p: Predicted data</span>\n",
    "*    <span style='color:Green'> r: Reconstructed data</span>\n",
    "*    <span style='color:Red'> t: Test data</span>\n",
    "*    <span style='color:Purple'> c: Commanded data (from Housekeeping Telemetry)</span>\n",
    "*    <span style='color:Blue'> m: Measured data (from Housekeeping Telemetry)</span>\n"
   ]
  },
  {
   "cell_type": "code",
   "execution_count": null,
   "metadata": {},
   "outputs": [],
   "source": [
    "spiops.ck_coverage_timeline('{metakernel}', ['MPO_SPACECRAFT', 'MMO_SPACECRAFT', 'MTM_SPACECRAFT'])\n",
    "spiops.ck_coverage_timeline('{metakernel}'.replace('ops', 'plan'), ['MPO_SPACECRAFT', 'MMO_SPACECRAFT', 'MTM_SPACECRAFT'])\n",
    "spiceypy.kclear()  # Avoid any plan kernel in the kernel pool"
   ]
  },
  {
   "cell_type": "code",
   "execution_count": null,
   "metadata": {},
   "outputs": [],
   "source": [
    "spiops.spk_coverage_timeline('{metakernel}', ['MPO', 'MMO', 'MTM'])\n",
    "spiops.spk_coverage_timeline('{metakernel}'.replace('ops', 'plan'), ['MPO', 'MMO', 'MTM'])\n",
    "spiceypy.kclear()  # Avoid any plan kernel in the kernel pool"
   ]
  },
  {
   "cell_type": "markdown",
   "metadata": {},
   "source": [
    "### XM-V3 - Predicted Quaternions to CK error\n",
    "Comparison of spacecraft orientation (quaternion) between source AEM Quaternions and generated CK"
   ]
  },
  {
   "cell_type": "code",
   "execution_count": null,
   "metadata": {},
   "outputs": [],
   "source": [
    "spiops.load('{metakernel}'.replace('ops', 'plan'))\n",
    "target_ck = '{skd_path}/ck/{predicted_ck}'\n",
    "max_err = spiops.ckVsAEM('MPO', target_ck, plot_style='line', notebook=True)\n",
    "test_history.set_test_result('XM-V3', (max_err != None) and (max_err < 5)) # 5mdeg\n",
    "spiceypy.kclear()  # Avoid any plan kernel in the kernel pool"
   ]
  },
  {
   "cell_type": "markdown",
   "metadata": {},
   "source": [
    "### XM-V4 - Measured Quaternions to CK error\n",
    "Comparison of spacecraft orientation (quaternion) between source AOCS Measured Quaternions and generated CK "
   ]
  },
  {
   "cell_type": "code",
   "execution_count": null,
   "metadata": {},
   "outputs": [],
   "source": [
    "spiops.load('{metakernel}')\n",
    "target_ck = '{skd_path}/ck/{measured_ck}'\n",
    "max_err = spiops.ckVsAocs('MPO', target_ck, plot_style='line', notebook=True)\n",
    "test_history.set_test_result('XM-V4', (max_err != None) and (max_err < 5)) # 5mdeg\n",
    "spiceypy.kclear()  # Avoid any plan kernel in the kernel pool"
   ]
  },
  {
   "cell_type": "markdown",
   "metadata": {},
   "source": [
    "### XM-V5 - OEM to SPK error\n",
    "Comparison of spacecraft position and velocity between source OEM and generated SPK "
   ]
  },
  {
   "cell_type": "code",
   "execution_count": null,
   "metadata": {},
   "outputs": [],
   "source": [
    "spiops.load('{metakernel}')\n",
    "target_spk = '{skd_path}/spk/{reconstructed_spk}'\n",
    "max_pos_err, max_vel_err = spiops.spkVsOem('MPO', target_spk, plot_style='line', notebook=True)\n",
    "test_history.set_test_result('XM-V5', (max_pos_err != None) and (max_pos_err < 0.1))\n",
    "spiceypy.kclear()  # Avoid any plan kernel in the kernel pool"
   ]
  },
  {
   "cell_type": "markdown",
   "metadata": {},
   "source": [
    "### XM-V7-MPO - MPO Solar Array (SA) Angles\n",
    "Comparison of MPO SADM Angle from HK TM and SPICE CK"
   ]
  },
  {
   "cell_type": "code",
   "execution_count": null,
   "metadata": {},
   "outputs": [],
   "source": [
    "spiops.load('{metakernel}')\n",
    "max_err = spiops.saa_vs_hk_sa_position('MPO', plot_style='line', notebook=True)\n",
    "test_history.set_test_result('XM-V7-MPO', (max_err != None) and (max_err < 100)) # 100mdeg\n",
    "spiceypy.kclear()  # Avoid any plan kernel in the kernel pool"
   ]
  },
  {
   "cell_type": "markdown",
   "metadata": {},
   "source": [
    "### XM-V7-MTM - MTM Solar Array (SA) Angles\n",
    "Comparison of MTM SA Angle from HK TM and SPICE CK"
   ]
  },
  {
   "cell_type": "code",
   "execution_count": null,
   "metadata": {},
   "outputs": [],
   "source": [
    "spiops.load('{metakernel}')\n",
    "max_err = spiops.saa_vs_hk_sa_position('MTM', plot_style='line', notebook=True)\n",
    "test_history.set_test_result('XM-V7-MTM', (max_err != None) and (max_err < 100)) # 100mdeg\n",
    "spiceypy.kclear()  # Avoid any plan kernel in the kernel pool"
   ]
  },
  {
   "cell_type": "markdown",
   "metadata": {},
   "source": [
    "### XM-Q3 - Attitude Error\n",
    "Comparison of +Z axis orientation between predicted and measured attitude in arcseconds "
   ]
  },
  {
   "cell_type": "code",
   "execution_count": null,
   "metadata": {},
   "outputs": [],
   "source": [
    "spiops.load('{metakernel}'.replace('ops', 'plan'))\n",
    "measured_ck = '{skd_path}/ck/{measured_ck}'\n",
    "predicted_ck = '{skd_path}/ck/{predicted_ck}'\n",
    "resolution = 4\n",
    "\n",
    "res = spiops.ckdiff_error(measured_ck, predicted_ck, 'MPO_SPACECRAFT', 'J2000', resolution, 0.001, \n",
    "                    plot_style='circle', utc_start=start_time, utc_finish=finish_time, notebook=True)\n",
    "test_history.set_test_result('XM-Q3', res is not None)\n",
    "spiceypy.kclear()  # Avoid any plan kernel in the kernel pool"
   ]
  },
  {
   "cell_type": "markdown",
   "metadata": {},
   "source": [
    "### XM-Q3-BIS - SCC vs FCP Attitude Error\n",
    "Comparison of +Z axis orientation between SOC commanded and FDy predicted attitude in arcseconds "
   ]
  },
  {
   "cell_type": "code",
   "execution_count": null,
   "metadata": {},
   "outputs": [],
   "source": [
    "spiops.load('{metakernel}')\n",
    "commanded_ck = '{skd_path}/ck/{commanded_ck}'\n",
    "predicted_ck = '{skd_path}/ck/{predicted_ck}'\n",
    "resolution = 4\n",
    "\n",
    "res = spiops.ckdiff_error(commanded_ck, predicted_ck, 'MPO_SPACECRAFT', 'J2000', resolution, 0.001, \n",
    "                    plot_style='circle', utc_start=start_time, utc_finish=finish_time, notebook=True)\n",
    "test_history.set_test_result('XM-Q3-BIS', res is not None)\n",
    "spiceypy.kclear()  # Avoid any plan kernel in the kernel pool"
   ]
  },
  {
   "cell_type": "markdown",
   "metadata": {},
   "source": [
    "## S/C Structures Orientation\n",
    "Quaternions, MTM and MPO Solar Array Orientation and Solar Aspect Angle, High Gain Antenna Orientation and HGA boresight-Earth Angle."
   ]
  },
  {
   "cell_type": "markdown",
   "metadata": {},
   "source": [
    "### XM-Q4 - MPO Orientation (quaternions w.r.. J2000)"
   ]
  },
  {
   "cell_type": "code",
   "execution_count": null,
   "metadata": {},
   "outputs": [],
   "source": [
    "spiops.load('{metakernel}')\n",
    "mpo.Plot('quaternions', notebook=True)\n",
    "test_history.set_test_result('XM-Q4', True)"
   ]
  },
  {
   "cell_type": "markdown",
   "metadata": {},
   "source": [
    "### XM-Q5-MPO - MPO Solar Array (SA) Angles "
   ]
  },
  {
   "cell_type": "code",
   "execution_count": null,
   "metadata": {},
   "outputs": [],
   "source": [
    "mpo.Plot('sa_ang', notebook=True)\n",
    "test_history.set_test_result('XM-Q5-MPO', True)"
   ]
  },
  {
   "cell_type": "markdown",
   "metadata": {},
   "source": [
    "### XM-Q5-MTM - MTM Solar Array (SA) Angles"
   ]
  },
  {
   "cell_type": "code",
   "execution_count": null,
   "metadata": {},
   "outputs": [],
   "source": [
    "mtm.Plot('sa_ang', notebook=True)\n",
    "test_history.set_test_result('XM-Q5-MTM', True)"
   ]
  },
  {
   "cell_type": "markdown",
   "metadata": {},
   "source": [
    "### XM-Q1-MPO - MPO SA Solar Aspect Angle"
   ]
  },
  {
   "cell_type": "code",
   "execution_count": null,
   "metadata": {},
   "outputs": [],
   "source": [
    "mpo.Plot('saa_sa', notebook=True)\n",
    "test_history.set_test_result('XM-Q1-MPO', True)"
   ]
  },
  {
   "cell_type": "markdown",
   "metadata": {},
   "source": [
    "### XM-Q1-MTM - MTM SA Solar Aspect Angle"
   ]
  },
  {
   "cell_type": "code",
   "execution_count": null,
   "metadata": {},
   "outputs": [],
   "source": [
    "mtm.Plot('saa_sa', notebook=True)\n",
    "test_history.set_test_result('XM-Q1-MTM', True)"
   ]
  },
  {
   "cell_type": "markdown",
   "metadata": {},
   "source": [
    "### XM-Q6 - MPO High Gain Antenna Angles"
   ]
  },
  {
   "cell_type": "code",
   "execution_count": null,
   "metadata": {},
   "outputs": [],
   "source": [
    "mpo.Plot('hga_angles', notebook=True)\n",
    "test_history.set_test_result('XM-Q6', True)       "
   ]
  },
  {
   "cell_type": "markdown",
   "metadata": {},
   "source": [
    "### XM-Q7- MPO High Gain Antenna - Earth Angle"
   ]
  },
  {
   "cell_type": "code",
   "execution_count": null,
   "metadata": {},
   "outputs": [],
   "source": [
    "mpo.Plot('hga_earth', notebook=True)\n",
    "test_history.set_test_result('XM-Q7', True)"
   ]
  },
  {
   "cell_type": "markdown",
   "metadata": {},
   "source": [
    "### BC-Q2 - MPO Medium Gain Antenna Angles"
   ]
  },
  {
   "cell_type": "code",
   "execution_count": null,
   "metadata": {},
   "outputs": [],
   "source": [
    "mpo.Plot('mga_angles', notebook=True)\n",
    "test_history.set_test_result('BC-Q2', True)"
   ]
  },
  {
   "cell_type": "markdown",
   "metadata": {},
   "source": [
    "### BC-Q8- MPO Medium Gain Antenna - Earth Angle"
   ]
  },
  {
   "cell_type": "code",
   "execution_count": null,
   "metadata": {},
   "outputs": [],
   "source": [
    "mpo.Plot('mga_earth', notebook=True)\n",
    "test_history.set_test_result('BC-Q8', True)"
   ]
  },
  {
   "cell_type": "markdown",
   "metadata": {},
   "source": [
    "### BC-V3-MERCURY_1 - MERCURY Flyby #1 01-OCT-2021 — CA altitudes"
   ]
  },
  {
   "cell_type": "code",
   "execution_count": null,
   "metadata": {},
   "outputs": [],
   "source": [
    "target = 'MERCURY'\n",
    "spk_expression = 'bc_mpo_fcp_?????_????????_????????_v??.bsp'\n",
    "num_spk_files = 10\n",
    "from_date = '2021-10-01T20:00:00' \n",
    "to_date = '2021-10-02T02:00:00'\n",
    "distance_flyby = 30000\n",
    "num_samples = 5000\n",
    "max_flyby_alt = spiops.flyby_ca_altitudes('MPO', target, spk_expression, num_spk_files, \n",
    "                                           from_date, to_date, distance_flyby, num_samples,\n",
    "                                           plot_style='line', notebook=True, plot_prefix=\"1st\")\n",
    "test_history.set_test_result('BC-V3-MERCURY_1', (max_flyby_alt != None))"
   ]
  },
  {
   "cell_type": "markdown",
   "metadata": {},
   "source": [
    "### BC-V3-MERCURY_2 - MERCURY Flyby #2 23-JUN-2022 — CA altitudes"
   ]
  },
  {
   "cell_type": "code",
   "execution_count": null,
   "metadata": {},
   "outputs": [],
   "source": [
    "target = 'MERCURY'\n",
    "spk_expression = 'bc_mpo_fcp_?????_????????_????????_v??.bsp'\n",
    "num_spk_files = 10\n",
    "from_date = '2022-06-23T05:30:00' \n",
    "to_date = '2022-06-23T13:35:00'\n",
    "distance_flyby = 30000\n",
    "num_samples = 5000\n",
    "max_flyby_alt = spiops.flyby_ca_altitudes('MPO', target, spk_expression, num_spk_files, \n",
    "                                           from_date, to_date, distance_flyby, num_samples,\n",
    "                                           plot_style='line', notebook=True, plot_prefix=\"2nd\")\n",
    "test_history.set_test_result('BC-V3-MERCURY_2', (max_flyby_alt != None))"
   ]
  },
  {
   "cell_type": "markdown",
   "metadata": {},
   "source": [
    "### BC-V3-MERCURY_3 - MERCURY Flyby #3 19-JUN-2023 — CA altitudes"
   ]
  },
  {
   "cell_type": "code",
   "execution_count": null,
   "metadata": {},
   "outputs": [],
   "source": [
    "target = 'MERCURY'\n",
    "spk_expression = 'bc_mpo_fcp_?????_????????_????????_v??.bsp'\n",
    "num_spk_files = 10\n",
    "from_date = '2023-06-19T17:00:00' \n",
    "to_date = '2023-06-20T01:00:00'\n",
    "distance_flyby = 30000\n",
    "num_samples = 5000\n",
    "max_flyby_alt = spiops.flyby_ca_altitudes('MPO', target, spk_expression, num_spk_files, \n",
    "                                           from_date, to_date, distance_flyby, num_samples,\n",
    "                                           plot_style='line', notebook=True, plot_prefix=\"3rd\")\n",
    "test_history.set_test_result('BC-V3-MERCURY_3', (max_flyby_alt != None))"
   ]
  },
  {
   "cell_type": "markdown",
   "metadata": {},
   "source": [
    "### XM-V10 - Diff of latest orbit w.r.t. previous orbit"
   ]
  },
  {
   "cell_type": "code",
   "execution_count": null,
   "metadata": {},
   "outputs": [],
   "source": [
    "spk_expression = 'bc_mpo_fcp_?????_????????_????????_v??.bsp'\n",
    "num_samples = 5000\n",
    "max_position_error = spiops.spk_diff('MPO', spk_expression, num_samples, notebook=True)\n",
    "test_history.set_test_result('XM-V10', (max_position_error != None))"
   ]
  },
  {
   "cell_type": "code",
   "execution_count": null,
   "metadata": {},
   "outputs": [],
   "source": [
    "# Unload ops MK\n",
    "spiceypy.kclear()  # Avoid any plan kernel in the kernel pool"
   ]
  },
  {
   "cell_type": "code",
   "execution_count": null,
   "metadata": {},
   "outputs": [],
   "source": [
    "# Show validation results\n",
    "test_history.show_tests()"
   ]
  }
 ],
 "metadata": {
  "kernelspec": {
   "display_name": "Python 3",
   "language": "python",
   "name": "python3"
  },
  "language_info": {
   "codemirror_mode": {
    "name": "ipython",
    "version": 3
   },
   "file_extension": ".py",
   "mimetype": "text/x-python",
   "name": "python",
   "nbconvert_exporter": "python",
   "pygments_lexer": "ipython3",
   "version": "3.6.13"
  }
 },
 "nbformat": 4,
 "nbformat_minor": 4
}
