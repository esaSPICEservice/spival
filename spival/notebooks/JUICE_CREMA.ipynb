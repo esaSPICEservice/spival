{
 "cells": [
  {
   "cell_type": "markdown",
   "metadata": {},
   "source": [
    "# JUICE SPICE Kernel Dataset Status\n",
    "SKD version: {skd_version} <br>\n",
    "Creation: {current_time} by ESA SPICE Service (ESAC/ESA). <br>\n"
   ]
  },
  {
   "cell_type": "markdown",
   "metadata": {},
   "source": [
    "## Startup\n",
    "Prepare the testing environment at first stage, so if any validation step fails stopping the execution, the tests are already defined and in fail state."
   ]
  },
  {
   "cell_type": "code",
   "execution_count": 1,
   "metadata": {},
   "outputs": [],
   "source": [
    "from spival.classes.history import TestHistory\n",
    "\n",
    "test_history = TestHistory()\n",
    "test_history.add_test('XM-C1', 'Metakernel is valid', 'Consistency')\n",
    "test_history.add_test('XM-C2', 'Frame chain', 'Consistency')\n",
    "test_history.add_test('XM-C3', 'Rotation matrices', 'Consistency')\n",
    "test_history.add_test('XM-C4', 'Fields of view', 'Consistency')\n",
    "test_history.add_test('XM-V5', 'OEM to SPK error', 'Validity/Error', threshold='~100m')\n",
    "test_history.add_test('XM-Q4', 'JUICE Orientation (quaternions w.r.. J2000)', 'Quality/Data')\n",
    "test_history.add_test('XM-Q5-MPO', 'JUICE Solar Array (SA) Angles', 'Quality/Data')\n",
    "test_history.add_test('XM-Q1-MPO', 'JUICE SA Solar Aspect Angle', 'Quality/Data')\n",
    "test_history.add_test('BC-Q2', 'JUICE Medium Gain Antenna Angles', 'Quality/Data')\n",
    "test_history.add_test('BC-Q8', 'JUICE Medium Gain Antenna - Earth Angle', 'Quality/Data')"
   ]
  },
  {
   "cell_type": "markdown",
   "metadata": {},
   "source": [
    "### XM-C1 - Test Metakernel is valid \n",
    "{XM-C1_description}"
   ]
  },
  {
   "cell_type": "code",
   "execution_count": null,
   "metadata": {},
   "outputs": [],
   "source": [
    "from spiops import spiops\n",
    "import spiceypy\n",
    "\n",
    "spiops.load('{metakernel}')               \n",
    "mission_config = spiops.load_config('{config_file}')               \n",
    "\n",
    "test_history.set_test_result('XM-C1', True)\n",
    "\n",
    "start_time = '{start_time_measured}'                                # Start time\n",
    "finish_time ='{finish_time_measured}'                               # End time\n",
    "resolution = {resolution}                                           # Resolution\n",
    "\n",
    "interval = spiops.TimeWindow(start_time, finish_time, resolution=resolution) # spiops object TimeWindow generated\n",
    "sun = spiops.Target('SUN', time=interval, frame='IAU_SUN')                   # spiops object Target Sun generated\n",
    "juice = spiops.Observer('JUICE', time=interval, target=sun, mission_config=mission_config)  # spiops object Observer JUICE generated\n",
    "spiceypy.kclear()  # Avoid any plan kernel in the kernel pool"
   ]
  },
  {
   "cell_type": "markdown",
   "metadata": {},
   "source": [
    "### <center><span style='color:Green'> Metakernel loaded successfully.  </span></center>"
   ]
  },
  {
   "cell_type": "markdown",
   "metadata": {},
   "source": [
    "### XM-C2 - Frame chain\n",
    "Ensure that frame changes operations can be performed at any time (incl. instrument frames), meaning all frames are connected."
   ]
  },
  {
   "cell_type": "code",
   "execution_count": null,
   "metadata": {},
   "outputs": [],
   "source": [
    "plan_mk = '{metakernel}'\n",
    "spiops.load(plan_mk)\n",
    "frm_start_time = '{start_time_measured}'                                # Start time\n",
    "frm_finish_time ='{finish_time_measured}'                               # End time\n",
    "num_samples = 100\n",
    "\n",
    "all_frames_ok = spiops.check_frame_chain(frm_start_time, frm_finish_time, num_samples, ignore_frames=['@EW@_PLAN', '@EW@_MEAS', 'JUICE_RW1', 'JUICE_RW2', 'JUICE_RW3', 'JUICE_RW4', 'JUICE_RIME', 'MSO'])\n",
    "test_history.set_test_result('XM-C2', all_frames_ok)"
   ]
  },
  {
   "cell_type": "markdown",
   "metadata": {},
   "source": [
    "### XM-C3 - Rotation matrices\n",
    "Check that all TK frames defined with matrices are defined with proper rotation matrices."
   ]
  },
  {
   "cell_type": "code",
   "execution_count": null,
   "metadata": {},
   "outputs": [],
   "source": [
    "all_matrices_ok = spiops.check_rotation_matrices()\n",
    "test_history.set_test_result('XM-C3', all_matrices_ok)\n"
   ]
  },
  {
   "cell_type": "markdown",
   "metadata": {},
   "source": [
    "### XM-C4 - Fields of view\n",
    "Check that all instruments fields of view are defined properly."
   ]
  },
  {
   "cell_type": "code",
   "execution_count": null,
   "metadata": {},
   "outputs": [],
   "source": [
    "all_fovs_ok = spiops.check_fovs(max_angle_deg=89.99994)\n",
    "test_history.set_test_result('XM-C4', all_fovs_ok)\n",
    "spiceypy.kclear()  # Avoid any plan kernel in the kernel pool"
   ]
  },
  {
   "cell_type": "markdown",
   "metadata": {},
   "source": [
    "## Coverage\n",
    "\n",
    "The coverage provided by the SPK and CK files is displayed for the Operational and the Planning meta-kernels. \n",
    "\n",
    "The Data type designation includes a reference to the originator of the data, the type of data and the reference period is provided. This is a three letter acronym. The first letter defines the file originator:\n",
    "*    s: Science Operation\n",
    "*    m: Mission Analysis\n",
    "*    f: Flight Dynamic\n",
    "\n",
    "the second letter defines the reference period of the data:\n",
    "*    c: Cruise phase reference\n",
    "*    l: Science phase Long term reference\n",
    "*    m: Science phase Medium term reference\n",
    "*    s: Science phase Short term reference\n",
    "*    o: Undefined reference\n",
    "\n",
    "the third letter indicates the type of data\n",
    "*    <span style='color:Orange'> p: Predicted data</span>\n",
    "*    <span style='color:Green'> r: Reconstructed data</span>\n",
    "*    <span style='color:Red'> t: Test data</span>\n",
    "*    <span style='color:Purple'> c: Commanded data (from Housekeeping Telemetry)</span>\n",
    "*    <span style='color:Blue'> m: Measured data (from Housekeeping Telemetry)</span>\n"
   ]
  },
  {
   "cell_type": "code",
   "execution_count": null,
   "metadata": {},
   "outputs": [],
   "source": [
    "spiops.ck_coverage_timeline('{metakernel}', ['JUICE_SPACECRAFT_PLAN', 'JUICE_SPACECRAFT_MEAS'])"
   ]
  },
  {
   "cell_type": "code",
   "execution_count": null,
   "metadata": {},
   "outputs": [],
   "source": [
    "spiops.spk_coverage_timeline('{metakernel}', ['JUICE'])"
   ]
  },
  {
   "cell_type": "markdown",
   "metadata": {},
   "source": [
    "### XM-V5 - OEM to SPK error\n",
    "Comparison of spacecraft position and velocity between source OEM and generated SPK "
   ]
  },
  {
   "cell_type": "code",
   "execution_count": null,
   "metadata": {},
   "outputs": [],
   "source": [
    "spiops.load('{metakernel}')\n",
    "target_spk = '{reconstructed_spk}'\n",
    "max_pos_err, max_vel_err, discontinuities = spiops.spkVsOem('JUICE', target_spk, mission_config, plot_style='line', notebook=True, ref_file=['{man_path}', '{crema_oem}'])\n",
    "test_history.set_test_result('XM-V5', (max_pos_err != None) and (max_pos_err < 0.1) and (len(discontinuities) == 0))\n",
    "spiceypy.kclear()  # Avoid any plan kernel in the kernel pool"
   ]
  },
  {
   "cell_type": "markdown",
   "metadata": {},
   "source": [
    "## S/C Structures Orientation\n",
    "Quaternions, JUICE Solar Array Orientation and Solar Aspect Angle, Medium Gain Antenna Orientation and MGA boresight-Earth Angle."
   ]
  },
  {
   "cell_type": "markdown",
   "metadata": {},
   "source": [
    "### XM-Q4 - JUICE Orientation (quaternions w.r.. J2000)"
   ]
  },
  {
   "cell_type": "code",
   "execution_count": null,
   "metadata": {},
   "outputs": [],
   "source": [
    "spiops.load('{metakernel}')\n",
    "juice.Plot('quaternions', notebook=True)\n",
    "test_history.set_test_result('XM-Q4', True)"
   ]
  },
  {
   "cell_type": "markdown",
   "metadata": {},
   "source": [
    "### XM-Q5-MPO - JUICE Solar Array (SA) Angles "
   ]
  },
  {
   "cell_type": "code",
   "execution_count": null,
   "metadata": {},
   "outputs": [],
   "source": [
    "juice.Plot('sa_ang', notebook=True)\n",
    "test_history.set_test_result('XM-Q5-MPO', True)"
   ]
  },
  {
   "cell_type": "markdown",
   "metadata": {},
   "source": [
    "### XM-Q1-MPO - JUICE SA Solar Aspect Angle"
   ]
  },
  {
   "cell_type": "code",
   "execution_count": null,
   "metadata": {},
   "outputs": [],
   "source": [
    "juice.Plot('saa_sa', notebook=True)\n",
    "test_history.set_test_result('XM-Q1-MPO', True)"
   ]
  },
  {
   "cell_type": "markdown",
   "metadata": {},
   "source": [
    "### BC-Q2 - JUICE Medium Gain Antenna Angles"
   ]
  },
  {
   "cell_type": "code",
   "execution_count": null,
   "metadata": {},
   "outputs": [],
   "source": [
    "juice.Plot('mga_angles', notebook=True)\n",
    "test_history.set_test_result('BC-Q2', True)"
   ]
  },
  {
   "cell_type": "markdown",
   "metadata": {},
   "source": [
    "### BC-Q8 - JUICE Medium Gain Antenna - Earth Angle"
   ]
  },
  {
   "cell_type": "code",
   "execution_count": null,
   "metadata": {},
   "outputs": [],
   "source": [
    "juice.Plot('mga_earth', notebook=True)\n",
    "test_history.set_test_result('BC-Q8', True)"
   ]
  },
  {
   "cell_type": "code",
   "execution_count": null,
   "metadata": {},
   "outputs": [],
   "source": [
    "# Unload ops MK\n",
    "spiceypy.kclear()  # Avoid any plan kernel in the kernel pool"
   ]
  },
  {
   "cell_type": "code",
   "execution_count": null,
   "metadata": {},
   "outputs": [],
   "source": [
    "# Show validation results\n",
    "test_history.show_tests()"
   ]
  }
 ],
 "metadata": {
  "kernelspec": {
   "display_name": "Python 3 (ipykernel)",
   "language": "python",
   "name": "python3"
  },
  "language_info": {
   "codemirror_mode": {
    "name": "ipython",
    "version": 3
   },
   "file_extension": ".py",
   "mimetype": "text/x-python",
   "name": "python",
   "nbconvert_exporter": "python",
   "pygments_lexer": "ipython3",
   "version": "3.9.13"
  }
 },
 "nbformat": 4,
 "nbformat_minor": 4
}
